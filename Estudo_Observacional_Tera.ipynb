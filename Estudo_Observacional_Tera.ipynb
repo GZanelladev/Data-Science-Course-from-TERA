{
  "nbformat": 4,
  "nbformat_minor": 0,
  "metadata": {
    "colab": {
      "provenance": [],
      "include_colab_link": true
    },
    "kernelspec": {
      "name": "python3",
      "display_name": "Python 3"
    },
    "language_info": {
      "name": "python"
    }
  },
  "cells": [
    {
      "cell_type": "markdown",
      "metadata": {
        "id": "view-in-github",
        "colab_type": "text"
      },
      "source": [
        "<a href=\"https://colab.research.google.com/github/GZanelladev/Data-Science-Course-from-TERA/blob/main/Estudo_Observacional_Tera.ipynb\" target=\"_parent\"><img src=\"https://colab.research.google.com/assets/colab-badge.svg\" alt=\"Open In Colab\"/></a>"
      ]
    },
    {
      "cell_type": "markdown",
      "metadata": {
        "id": "tR5LJ4iNK2ZE"
      },
      "source": [
        "# Importação das bibliotecas"
      ]
    },
    {
      "cell_type": "code",
      "metadata": {
        "id": "yb8IZduLK7Fz"
      },
      "source": [
        "import pandas as pd\n",
        "import seaborn as sns\n",
        "import numpy as np\n",
        "from matplotlib import pyplot as plt"
      ],
      "execution_count": null,
      "outputs": []
    },
    {
      "cell_type": "markdown",
      "metadata": {
        "id": "jx51kEOKKuBn"
      },
      "source": [
        "# O banco de dados"
      ]
    },
    {
      "cell_type": "markdown",
      "metadata": {
        "id": "XCSc20loKwv1"
      },
      "source": [
        "O banco se refere a um experimento no qual se avaliou o FEV (volume expiratório forçado) de 654 crianças entre 3 e 19 anos. O FEV mede o volume, em litros, que uma pessoa consegue exalar em uma respiração forçada. Além do FEV, o banco contém as seguintes informações dos participantes: idade, altura, gênero e se é fumante (1 = fumante, 2 = não-fumante).\n",
        "\n",
        "O objetivo será investigar se fumantes e não fumantes apresentam FEVs semelhantes.\n",
        "\n",
        "[Fonte](http://www.craigmile.com/peter/teaching/673/datasets/fev_info.txt)"
      ]
    },
    {
      "cell_type": "code",
      "source": [],
      "metadata": {
        "id": "iG5KnJ4Yuyth"
      },
      "execution_count": null,
      "outputs": []
    },
    {
      "cell_type": "markdown",
      "metadata": {
        "id": "hLTuirDlKyn5"
      },
      "source": [
        "# Leitura do banco de dados"
      ]
    },
    {
      "cell_type": "code",
      "metadata": {
        "id": "7vZqJNBLKq38"
      },
      "source": [
        "df = pd.read_csv(\"http://www.craigmile.com/peter/teaching/673/datasets/fev.txt\", sep='\\s+')"
      ],
      "execution_count": null,
      "outputs": []
    },
    {
      "cell_type": "code",
      "metadata": {
        "colab": {
          "base_uri": "https://localhost:8080/",
          "height": 363
        },
        "id": "7RfkFivjMWJ4",
        "outputId": "91154b3f-5462-4dab-c528-f73bdb9153ff"
      },
      "source": [
        "df.head(10)"
      ],
      "execution_count": null,
      "outputs": [
        {
          "output_type": "execute_result",
          "data": {
            "text/html": [
              "\n",
              "  <div id=\"df-084d905b-1066-415d-a207-e4dfdae30f8d\">\n",
              "    <div class=\"colab-df-container\">\n",
              "      <div>\n",
              "<style scoped>\n",
              "    .dataframe tbody tr th:only-of-type {\n",
              "        vertical-align: middle;\n",
              "    }\n",
              "\n",
              "    .dataframe tbody tr th {\n",
              "        vertical-align: top;\n",
              "    }\n",
              "\n",
              "    .dataframe thead th {\n",
              "        text-align: right;\n",
              "    }\n",
              "</style>\n",
              "<table border=\"1\" class=\"dataframe\">\n",
              "  <thead>\n",
              "    <tr style=\"text-align: right;\">\n",
              "      <th></th>\n",
              "      <th>seqno</th>\n",
              "      <th>subjid</th>\n",
              "      <th>age</th>\n",
              "      <th>fev</th>\n",
              "      <th>height</th>\n",
              "      <th>sex</th>\n",
              "      <th>smoke</th>\n",
              "    </tr>\n",
              "  </thead>\n",
              "  <tbody>\n",
              "    <tr>\n",
              "      <th>0</th>\n",
              "      <td>1</td>\n",
              "      <td>301</td>\n",
              "      <td>9</td>\n",
              "      <td>1.708</td>\n",
              "      <td>57.0</td>\n",
              "      <td>2</td>\n",
              "      <td>2</td>\n",
              "    </tr>\n",
              "    <tr>\n",
              "      <th>1</th>\n",
              "      <td>2</td>\n",
              "      <td>451</td>\n",
              "      <td>8</td>\n",
              "      <td>1.724</td>\n",
              "      <td>67.5</td>\n",
              "      <td>2</td>\n",
              "      <td>2</td>\n",
              "    </tr>\n",
              "    <tr>\n",
              "      <th>2</th>\n",
              "      <td>3</td>\n",
              "      <td>501</td>\n",
              "      <td>7</td>\n",
              "      <td>1.720</td>\n",
              "      <td>54.5</td>\n",
              "      <td>2</td>\n",
              "      <td>2</td>\n",
              "    </tr>\n",
              "    <tr>\n",
              "      <th>3</th>\n",
              "      <td>4</td>\n",
              "      <td>642</td>\n",
              "      <td>9</td>\n",
              "      <td>1.558</td>\n",
              "      <td>53.0</td>\n",
              "      <td>1</td>\n",
              "      <td>2</td>\n",
              "    </tr>\n",
              "    <tr>\n",
              "      <th>4</th>\n",
              "      <td>5</td>\n",
              "      <td>901</td>\n",
              "      <td>9</td>\n",
              "      <td>1.895</td>\n",
              "      <td>57.0</td>\n",
              "      <td>1</td>\n",
              "      <td>2</td>\n",
              "    </tr>\n",
              "    <tr>\n",
              "      <th>5</th>\n",
              "      <td>6</td>\n",
              "      <td>1701</td>\n",
              "      <td>8</td>\n",
              "      <td>2.336</td>\n",
              "      <td>61.0</td>\n",
              "      <td>2</td>\n",
              "      <td>2</td>\n",
              "    </tr>\n",
              "    <tr>\n",
              "      <th>6</th>\n",
              "      <td>7</td>\n",
              "      <td>1752</td>\n",
              "      <td>6</td>\n",
              "      <td>1.919</td>\n",
              "      <td>58.0</td>\n",
              "      <td>2</td>\n",
              "      <td>2</td>\n",
              "    </tr>\n",
              "    <tr>\n",
              "      <th>7</th>\n",
              "      <td>8</td>\n",
              "      <td>1753</td>\n",
              "      <td>6</td>\n",
              "      <td>1.415</td>\n",
              "      <td>56.0</td>\n",
              "      <td>2</td>\n",
              "      <td>2</td>\n",
              "    </tr>\n",
              "    <tr>\n",
              "      <th>8</th>\n",
              "      <td>9</td>\n",
              "      <td>1901</td>\n",
              "      <td>8</td>\n",
              "      <td>1.987</td>\n",
              "      <td>58.5</td>\n",
              "      <td>2</td>\n",
              "      <td>2</td>\n",
              "    </tr>\n",
              "    <tr>\n",
              "      <th>9</th>\n",
              "      <td>10</td>\n",
              "      <td>1951</td>\n",
              "      <td>9</td>\n",
              "      <td>1.942</td>\n",
              "      <td>60.0</td>\n",
              "      <td>2</td>\n",
              "      <td>2</td>\n",
              "    </tr>\n",
              "  </tbody>\n",
              "</table>\n",
              "</div>\n",
              "      <button class=\"colab-df-convert\" onclick=\"convertToInteractive('df-084d905b-1066-415d-a207-e4dfdae30f8d')\"\n",
              "              title=\"Convert this dataframe to an interactive table.\"\n",
              "              style=\"display:none;\">\n",
              "        \n",
              "  <svg xmlns=\"http://www.w3.org/2000/svg\" height=\"24px\"viewBox=\"0 0 24 24\"\n",
              "       width=\"24px\">\n",
              "    <path d=\"M0 0h24v24H0V0z\" fill=\"none\"/>\n",
              "    <path d=\"M18.56 5.44l.94 2.06.94-2.06 2.06-.94-2.06-.94-.94-2.06-.94 2.06-2.06.94zm-11 1L8.5 8.5l.94-2.06 2.06-.94-2.06-.94L8.5 2.5l-.94 2.06-2.06.94zm10 10l.94 2.06.94-2.06 2.06-.94-2.06-.94-.94-2.06-.94 2.06-2.06.94z\"/><path d=\"M17.41 7.96l-1.37-1.37c-.4-.4-.92-.59-1.43-.59-.52 0-1.04.2-1.43.59L10.3 9.45l-7.72 7.72c-.78.78-.78 2.05 0 2.83L4 21.41c.39.39.9.59 1.41.59.51 0 1.02-.2 1.41-.59l7.78-7.78 2.81-2.81c.8-.78.8-2.07 0-2.86zM5.41 20L4 18.59l7.72-7.72 1.47 1.35L5.41 20z\"/>\n",
              "  </svg>\n",
              "      </button>\n",
              "      \n",
              "  <style>\n",
              "    .colab-df-container {\n",
              "      display:flex;\n",
              "      flex-wrap:wrap;\n",
              "      gap: 12px;\n",
              "    }\n",
              "\n",
              "    .colab-df-convert {\n",
              "      background-color: #E8F0FE;\n",
              "      border: none;\n",
              "      border-radius: 50%;\n",
              "      cursor: pointer;\n",
              "      display: none;\n",
              "      fill: #1967D2;\n",
              "      height: 32px;\n",
              "      padding: 0 0 0 0;\n",
              "      width: 32px;\n",
              "    }\n",
              "\n",
              "    .colab-df-convert:hover {\n",
              "      background-color: #E2EBFA;\n",
              "      box-shadow: 0px 1px 2px rgba(60, 64, 67, 0.3), 0px 1px 3px 1px rgba(60, 64, 67, 0.15);\n",
              "      fill: #174EA6;\n",
              "    }\n",
              "\n",
              "    [theme=dark] .colab-df-convert {\n",
              "      background-color: #3B4455;\n",
              "      fill: #D2E3FC;\n",
              "    }\n",
              "\n",
              "    [theme=dark] .colab-df-convert:hover {\n",
              "      background-color: #434B5C;\n",
              "      box-shadow: 0px 1px 3px 1px rgba(0, 0, 0, 0.15);\n",
              "      filter: drop-shadow(0px 1px 2px rgba(0, 0, 0, 0.3));\n",
              "      fill: #FFFFFF;\n",
              "    }\n",
              "  </style>\n",
              "\n",
              "      <script>\n",
              "        const buttonEl =\n",
              "          document.querySelector('#df-084d905b-1066-415d-a207-e4dfdae30f8d button.colab-df-convert');\n",
              "        buttonEl.style.display =\n",
              "          google.colab.kernel.accessAllowed ? 'block' : 'none';\n",
              "\n",
              "        async function convertToInteractive(key) {\n",
              "          const element = document.querySelector('#df-084d905b-1066-415d-a207-e4dfdae30f8d');\n",
              "          const dataTable =\n",
              "            await google.colab.kernel.invokeFunction('convertToInteractive',\n",
              "                                                     [key], {});\n",
              "          if (!dataTable) return;\n",
              "\n",
              "          const docLinkHtml = 'Like what you see? Visit the ' +\n",
              "            '<a target=\"_blank\" href=https://colab.research.google.com/notebooks/data_table.ipynb>data table notebook</a>'\n",
              "            + ' to learn more about interactive tables.';\n",
              "          element.innerHTML = '';\n",
              "          dataTable['output_type'] = 'display_data';\n",
              "          await google.colab.output.renderOutput(dataTable, element);\n",
              "          const docLink = document.createElement('div');\n",
              "          docLink.innerHTML = docLinkHtml;\n",
              "          element.appendChild(docLink);\n",
              "        }\n",
              "      </script>\n",
              "    </div>\n",
              "  </div>\n",
              "  "
            ],
            "text/plain": [
              "   seqno  subjid  age    fev  height  sex  smoke\n",
              "0      1     301    9  1.708    57.0    2      2\n",
              "1      2     451    8  1.724    67.5    2      2\n",
              "2      3     501    7  1.720    54.5    2      2\n",
              "3      4     642    9  1.558    53.0    1      2\n",
              "4      5     901    9  1.895    57.0    1      2\n",
              "5      6    1701    8  2.336    61.0    2      2\n",
              "6      7    1752    6  1.919    58.0    2      2\n",
              "7      8    1753    6  1.415    56.0    2      2\n",
              "8      9    1901    8  1.987    58.5    2      2\n",
              "9     10    1951    9  1.942    60.0    2      2"
            ]
          },
          "metadata": {},
          "execution_count": 5
        }
      ]
    },
    {
      "cell_type": "code",
      "metadata": {
        "colab": {
          "base_uri": "https://localhost:8080/",
          "height": 300
        },
        "id": "wLf0v-aJP6hh",
        "outputId": "7a15c899-2c3b-4487-b929-9f89842d64c4"
      },
      "source": [
        "df.describe().round(2)"
      ],
      "execution_count": null,
      "outputs": [
        {
          "output_type": "execute_result",
          "data": {
            "text/html": [
              "\n",
              "  <div id=\"df-83a822eb-d7fb-43cc-b322-d82d4052cc33\">\n",
              "    <div class=\"colab-df-container\">\n",
              "      <div>\n",
              "<style scoped>\n",
              "    .dataframe tbody tr th:only-of-type {\n",
              "        vertical-align: middle;\n",
              "    }\n",
              "\n",
              "    .dataframe tbody tr th {\n",
              "        vertical-align: top;\n",
              "    }\n",
              "\n",
              "    .dataframe thead th {\n",
              "        text-align: right;\n",
              "    }\n",
              "</style>\n",
              "<table border=\"1\" class=\"dataframe\">\n",
              "  <thead>\n",
              "    <tr style=\"text-align: right;\">\n",
              "      <th></th>\n",
              "      <th>seqno</th>\n",
              "      <th>subjid</th>\n",
              "      <th>age</th>\n",
              "      <th>fev</th>\n",
              "      <th>height</th>\n",
              "      <th>sex</th>\n",
              "      <th>smoke</th>\n",
              "    </tr>\n",
              "  </thead>\n",
              "  <tbody>\n",
              "    <tr>\n",
              "      <th>count</th>\n",
              "      <td>654.00</td>\n",
              "      <td>654.00</td>\n",
              "      <td>654.00</td>\n",
              "      <td>654.00</td>\n",
              "      <td>654.00</td>\n",
              "      <td>654.00</td>\n",
              "      <td>654.0</td>\n",
              "    </tr>\n",
              "    <tr>\n",
              "      <th>mean</th>\n",
              "      <td>327.50</td>\n",
              "      <td>37169.57</td>\n",
              "      <td>9.93</td>\n",
              "      <td>2.64</td>\n",
              "      <td>61.14</td>\n",
              "      <td>1.49</td>\n",
              "      <td>1.9</td>\n",
              "    </tr>\n",
              "    <tr>\n",
              "      <th>std</th>\n",
              "      <td>188.94</td>\n",
              "      <td>23690.86</td>\n",
              "      <td>2.95</td>\n",
              "      <td>0.87</td>\n",
              "      <td>5.70</td>\n",
              "      <td>0.50</td>\n",
              "      <td>0.3</td>\n",
              "    </tr>\n",
              "    <tr>\n",
              "      <th>min</th>\n",
              "      <td>1.00</td>\n",
              "      <td>201.00</td>\n",
              "      <td>3.00</td>\n",
              "      <td>0.79</td>\n",
              "      <td>46.00</td>\n",
              "      <td>1.00</td>\n",
              "      <td>1.0</td>\n",
              "    </tr>\n",
              "    <tr>\n",
              "      <th>25%</th>\n",
              "      <td>164.25</td>\n",
              "      <td>15811.00</td>\n",
              "      <td>8.00</td>\n",
              "      <td>1.98</td>\n",
              "      <td>57.00</td>\n",
              "      <td>1.00</td>\n",
              "      <td>2.0</td>\n",
              "    </tr>\n",
              "    <tr>\n",
              "      <th>50%</th>\n",
              "      <td>327.50</td>\n",
              "      <td>36071.00</td>\n",
              "      <td>10.00</td>\n",
              "      <td>2.55</td>\n",
              "      <td>61.50</td>\n",
              "      <td>1.00</td>\n",
              "      <td>2.0</td>\n",
              "    </tr>\n",
              "    <tr>\n",
              "      <th>75%</th>\n",
              "      <td>490.75</td>\n",
              "      <td>53638.50</td>\n",
              "      <td>12.00</td>\n",
              "      <td>3.12</td>\n",
              "      <td>65.50</td>\n",
              "      <td>2.00</td>\n",
              "      <td>2.0</td>\n",
              "    </tr>\n",
              "    <tr>\n",
              "      <th>max</th>\n",
              "      <td>654.00</td>\n",
              "      <td>90001.00</td>\n",
              "      <td>19.00</td>\n",
              "      <td>5.79</td>\n",
              "      <td>74.00</td>\n",
              "      <td>2.00</td>\n",
              "      <td>2.0</td>\n",
              "    </tr>\n",
              "  </tbody>\n",
              "</table>\n",
              "</div>\n",
              "      <button class=\"colab-df-convert\" onclick=\"convertToInteractive('df-83a822eb-d7fb-43cc-b322-d82d4052cc33')\"\n",
              "              title=\"Convert this dataframe to an interactive table.\"\n",
              "              style=\"display:none;\">\n",
              "        \n",
              "  <svg xmlns=\"http://www.w3.org/2000/svg\" height=\"24px\"viewBox=\"0 0 24 24\"\n",
              "       width=\"24px\">\n",
              "    <path d=\"M0 0h24v24H0V0z\" fill=\"none\"/>\n",
              "    <path d=\"M18.56 5.44l.94 2.06.94-2.06 2.06-.94-2.06-.94-.94-2.06-.94 2.06-2.06.94zm-11 1L8.5 8.5l.94-2.06 2.06-.94-2.06-.94L8.5 2.5l-.94 2.06-2.06.94zm10 10l.94 2.06.94-2.06 2.06-.94-2.06-.94-.94-2.06-.94 2.06-2.06.94z\"/><path d=\"M17.41 7.96l-1.37-1.37c-.4-.4-.92-.59-1.43-.59-.52 0-1.04.2-1.43.59L10.3 9.45l-7.72 7.72c-.78.78-.78 2.05 0 2.83L4 21.41c.39.39.9.59 1.41.59.51 0 1.02-.2 1.41-.59l7.78-7.78 2.81-2.81c.8-.78.8-2.07 0-2.86zM5.41 20L4 18.59l7.72-7.72 1.47 1.35L5.41 20z\"/>\n",
              "  </svg>\n",
              "      </button>\n",
              "      \n",
              "  <style>\n",
              "    .colab-df-container {\n",
              "      display:flex;\n",
              "      flex-wrap:wrap;\n",
              "      gap: 12px;\n",
              "    }\n",
              "\n",
              "    .colab-df-convert {\n",
              "      background-color: #E8F0FE;\n",
              "      border: none;\n",
              "      border-radius: 50%;\n",
              "      cursor: pointer;\n",
              "      display: none;\n",
              "      fill: #1967D2;\n",
              "      height: 32px;\n",
              "      padding: 0 0 0 0;\n",
              "      width: 32px;\n",
              "    }\n",
              "\n",
              "    .colab-df-convert:hover {\n",
              "      background-color: #E2EBFA;\n",
              "      box-shadow: 0px 1px 2px rgba(60, 64, 67, 0.3), 0px 1px 3px 1px rgba(60, 64, 67, 0.15);\n",
              "      fill: #174EA6;\n",
              "    }\n",
              "\n",
              "    [theme=dark] .colab-df-convert {\n",
              "      background-color: #3B4455;\n",
              "      fill: #D2E3FC;\n",
              "    }\n",
              "\n",
              "    [theme=dark] .colab-df-convert:hover {\n",
              "      background-color: #434B5C;\n",
              "      box-shadow: 0px 1px 3px 1px rgba(0, 0, 0, 0.15);\n",
              "      filter: drop-shadow(0px 1px 2px rgba(0, 0, 0, 0.3));\n",
              "      fill: #FFFFFF;\n",
              "    }\n",
              "  </style>\n",
              "\n",
              "      <script>\n",
              "        const buttonEl =\n",
              "          document.querySelector('#df-83a822eb-d7fb-43cc-b322-d82d4052cc33 button.colab-df-convert');\n",
              "        buttonEl.style.display =\n",
              "          google.colab.kernel.accessAllowed ? 'block' : 'none';\n",
              "\n",
              "        async function convertToInteractive(key) {\n",
              "          const element = document.querySelector('#df-83a822eb-d7fb-43cc-b322-d82d4052cc33');\n",
              "          const dataTable =\n",
              "            await google.colab.kernel.invokeFunction('convertToInteractive',\n",
              "                                                     [key], {});\n",
              "          if (!dataTable) return;\n",
              "\n",
              "          const docLinkHtml = 'Like what you see? Visit the ' +\n",
              "            '<a target=\"_blank\" href=https://colab.research.google.com/notebooks/data_table.ipynb>data table notebook</a>'\n",
              "            + ' to learn more about interactive tables.';\n",
              "          element.innerHTML = '';\n",
              "          dataTable['output_type'] = 'display_data';\n",
              "          await google.colab.output.renderOutput(dataTable, element);\n",
              "          const docLink = document.createElement('div');\n",
              "          docLink.innerHTML = docLinkHtml;\n",
              "          element.appendChild(docLink);\n",
              "        }\n",
              "      </script>\n",
              "    </div>\n",
              "  </div>\n",
              "  "
            ],
            "text/plain": [
              "        seqno    subjid     age     fev  height     sex  smoke\n",
              "count  654.00    654.00  654.00  654.00  654.00  654.00  654.0\n",
              "mean   327.50  37169.57    9.93    2.64   61.14    1.49    1.9\n",
              "std    188.94  23690.86    2.95    0.87    5.70    0.50    0.3\n",
              "min      1.00    201.00    3.00    0.79   46.00    1.00    1.0\n",
              "25%    164.25  15811.00    8.00    1.98   57.00    1.00    2.0\n",
              "50%    327.50  36071.00   10.00    2.55   61.50    1.00    2.0\n",
              "75%    490.75  53638.50   12.00    3.12   65.50    2.00    2.0\n",
              "max    654.00  90001.00   19.00    5.79   74.00    2.00    2.0"
            ]
          },
          "metadata": {},
          "execution_count": 6
        }
      ]
    },
    {
      "cell_type": "markdown",
      "metadata": {
        "id": "mWGl-HP9MJ0x"
      },
      "source": [
        "# Estatística descritiva do FEV em fumantes"
      ]
    },
    {
      "cell_type": "code",
      "metadata": {
        "colab": {
          "base_uri": "https://localhost:8080/",
          "height": 143
        },
        "id": "xWurAKQ2MJby",
        "outputId": "c3a057c9-b994-4ecd-ca73-032d01d9606c"
      },
      "source": [
        "df.groupby(['smoke'])['fev'].describe()"
      ],
      "execution_count": null,
      "outputs": [
        {
          "output_type": "execute_result",
          "data": {
            "text/html": [
              "\n",
              "  <div id=\"df-31b95c41-fb5e-4d28-81c1-30cebea7be8c\">\n",
              "    <div class=\"colab-df-container\">\n",
              "      <div>\n",
              "<style scoped>\n",
              "    .dataframe tbody tr th:only-of-type {\n",
              "        vertical-align: middle;\n",
              "    }\n",
              "\n",
              "    .dataframe tbody tr th {\n",
              "        vertical-align: top;\n",
              "    }\n",
              "\n",
              "    .dataframe thead th {\n",
              "        text-align: right;\n",
              "    }\n",
              "</style>\n",
              "<table border=\"1\" class=\"dataframe\">\n",
              "  <thead>\n",
              "    <tr style=\"text-align: right;\">\n",
              "      <th></th>\n",
              "      <th>count</th>\n",
              "      <th>mean</th>\n",
              "      <th>std</th>\n",
              "      <th>min</th>\n",
              "      <th>25%</th>\n",
              "      <th>50%</th>\n",
              "      <th>75%</th>\n",
              "      <th>max</th>\n",
              "    </tr>\n",
              "    <tr>\n",
              "      <th>smoke</th>\n",
              "      <th></th>\n",
              "      <th></th>\n",
              "      <th></th>\n",
              "      <th></th>\n",
              "      <th></th>\n",
              "      <th></th>\n",
              "      <th></th>\n",
              "      <th></th>\n",
              "    </tr>\n",
              "  </thead>\n",
              "  <tbody>\n",
              "    <tr>\n",
              "      <th>1</th>\n",
              "      <td>65.0</td>\n",
              "      <td>3.276862</td>\n",
              "      <td>0.749986</td>\n",
              "      <td>1.694</td>\n",
              "      <td>2.795</td>\n",
              "      <td>3.169</td>\n",
              "      <td>3.751</td>\n",
              "      <td>4.872</td>\n",
              "    </tr>\n",
              "    <tr>\n",
              "      <th>2</th>\n",
              "      <td>589.0</td>\n",
              "      <td>2.566143</td>\n",
              "      <td>0.850522</td>\n",
              "      <td>0.791</td>\n",
              "      <td>1.920</td>\n",
              "      <td>2.465</td>\n",
              "      <td>3.048</td>\n",
              "      <td>5.793</td>\n",
              "    </tr>\n",
              "  </tbody>\n",
              "</table>\n",
              "</div>\n",
              "      <button class=\"colab-df-convert\" onclick=\"convertToInteractive('df-31b95c41-fb5e-4d28-81c1-30cebea7be8c')\"\n",
              "              title=\"Convert this dataframe to an interactive table.\"\n",
              "              style=\"display:none;\">\n",
              "        \n",
              "  <svg xmlns=\"http://www.w3.org/2000/svg\" height=\"24px\"viewBox=\"0 0 24 24\"\n",
              "       width=\"24px\">\n",
              "    <path d=\"M0 0h24v24H0V0z\" fill=\"none\"/>\n",
              "    <path d=\"M18.56 5.44l.94 2.06.94-2.06 2.06-.94-2.06-.94-.94-2.06-.94 2.06-2.06.94zm-11 1L8.5 8.5l.94-2.06 2.06-.94-2.06-.94L8.5 2.5l-.94 2.06-2.06.94zm10 10l.94 2.06.94-2.06 2.06-.94-2.06-.94-.94-2.06-.94 2.06-2.06.94z\"/><path d=\"M17.41 7.96l-1.37-1.37c-.4-.4-.92-.59-1.43-.59-.52 0-1.04.2-1.43.59L10.3 9.45l-7.72 7.72c-.78.78-.78 2.05 0 2.83L4 21.41c.39.39.9.59 1.41.59.51 0 1.02-.2 1.41-.59l7.78-7.78 2.81-2.81c.8-.78.8-2.07 0-2.86zM5.41 20L4 18.59l7.72-7.72 1.47 1.35L5.41 20z\"/>\n",
              "  </svg>\n",
              "      </button>\n",
              "      \n",
              "  <style>\n",
              "    .colab-df-container {\n",
              "      display:flex;\n",
              "      flex-wrap:wrap;\n",
              "      gap: 12px;\n",
              "    }\n",
              "\n",
              "    .colab-df-convert {\n",
              "      background-color: #E8F0FE;\n",
              "      border: none;\n",
              "      border-radius: 50%;\n",
              "      cursor: pointer;\n",
              "      display: none;\n",
              "      fill: #1967D2;\n",
              "      height: 32px;\n",
              "      padding: 0 0 0 0;\n",
              "      width: 32px;\n",
              "    }\n",
              "\n",
              "    .colab-df-convert:hover {\n",
              "      background-color: #E2EBFA;\n",
              "      box-shadow: 0px 1px 2px rgba(60, 64, 67, 0.3), 0px 1px 3px 1px rgba(60, 64, 67, 0.15);\n",
              "      fill: #174EA6;\n",
              "    }\n",
              "\n",
              "    [theme=dark] .colab-df-convert {\n",
              "      background-color: #3B4455;\n",
              "      fill: #D2E3FC;\n",
              "    }\n",
              "\n",
              "    [theme=dark] .colab-df-convert:hover {\n",
              "      background-color: #434B5C;\n",
              "      box-shadow: 0px 1px 3px 1px rgba(0, 0, 0, 0.15);\n",
              "      filter: drop-shadow(0px 1px 2px rgba(0, 0, 0, 0.3));\n",
              "      fill: #FFFFFF;\n",
              "    }\n",
              "  </style>\n",
              "\n",
              "      <script>\n",
              "        const buttonEl =\n",
              "          document.querySelector('#df-31b95c41-fb5e-4d28-81c1-30cebea7be8c button.colab-df-convert');\n",
              "        buttonEl.style.display =\n",
              "          google.colab.kernel.accessAllowed ? 'block' : 'none';\n",
              "\n",
              "        async function convertToInteractive(key) {\n",
              "          const element = document.querySelector('#df-31b95c41-fb5e-4d28-81c1-30cebea7be8c');\n",
              "          const dataTable =\n",
              "            await google.colab.kernel.invokeFunction('convertToInteractive',\n",
              "                                                     [key], {});\n",
              "          if (!dataTable) return;\n",
              "\n",
              "          const docLinkHtml = 'Like what you see? Visit the ' +\n",
              "            '<a target=\"_blank\" href=https://colab.research.google.com/notebooks/data_table.ipynb>data table notebook</a>'\n",
              "            + ' to learn more about interactive tables.';\n",
              "          element.innerHTML = '';\n",
              "          dataTable['output_type'] = 'display_data';\n",
              "          await google.colab.output.renderOutput(dataTable, element);\n",
              "          const docLink = document.createElement('div');\n",
              "          docLink.innerHTML = docLinkHtml;\n",
              "          element.appendChild(docLink);\n",
              "        }\n",
              "      </script>\n",
              "    </div>\n",
              "  </div>\n",
              "  "
            ],
            "text/plain": [
              "       count      mean       std    min    25%    50%    75%    max\n",
              "smoke                                                              \n",
              "1       65.0  3.276862  0.749986  1.694  2.795  3.169  3.751  4.872\n",
              "2      589.0  2.566143  0.850522  0.791  1.920  2.465  3.048  5.793"
            ]
          },
          "metadata": {},
          "execution_count": 7
        }
      ]
    },
    {
      "cell_type": "markdown",
      "metadata": {
        "id": "jNPG-9-ZTHTP"
      },
      "source": [
        "### Boxplot"
      ]
    },
    {
      "cell_type": "code",
      "metadata": {
        "colab": {
          "base_uri": "https://localhost:8080/",
          "height": 282
        },
        "id": "DtVXn6AvTZor",
        "outputId": "5d46ad4d-60bb-445b-c761-367ecd192166"
      },
      "source": [
        "sns.boxplot(x = 'smoke', y = 'fev', data = df)\n",
        "plt.xlabel('Hábito de fumar (1 = Sim, 2 = Não)')\n",
        "plt.ylabel('FEV (litros)')\n",
        "plt.show()"
      ],
      "execution_count": null,
      "outputs": [
        {
          "output_type": "display_data",
          "data": {
            "image/png": "[encoded data removed]",
            "text/plain": [
              "<Figure size 432x288 with 1 Axes>"
            ]
          },
          "metadata": {
            "needs_background": "light"
          }
        }
      ]
    },
    {
      "cell_type": "markdown",
      "metadata": {
        "id": "pcQrdRaIUqR6"
      },
      "source": [
        "# Regressão linear"
      ]
    },
    {
      "cell_type": "code",
      "metadata": {
        "colab": {
          "base_uri": "https://localhost:8080/"
        },
        "id": "xVUxLlBoUvdf",
        "outputId": "17266531-da7c-49d9-c02c-13914799a408"
      },
      "source": [
        "import statsmodels.api as sm\n",
        "import statsmodels.formula.api as smf"
      ],
      "execution_count": null,
      "outputs": [
        {
          "output_type": "stream",
          "name": "stderr",
          "text": [
            "/usr/local/lib/python3.7/dist-packages/statsmodels/tools/_testing.py:19: FutureWarning: pandas.util.testing is deprecated. Use the functions in the public API at pandas.testing instead.\n",
            "  import pandas.util.testing as tm\n"
          ]
        }
      ]
    },
    {
      "cell_type": "code",
      "metadata": {
        "id": "ogxhM8ZtVJWj"
      },
      "source": [
        "mod1 = smf.ols(formula = 'fev ~ smoke', data = df)"
      ],
      "execution_count": null,
      "outputs": []
    },
    {
      "cell_type": "code",
      "metadata": {
        "id": "k8I4L3DnVRk2"
      },
      "source": [
        "res = mod1.fit()"
      ],
      "execution_count": null,
      "outputs": []
    },
    {
      "cell_type": "code",
      "metadata": {
        "colab": {
          "base_uri": "https://localhost:8080/"
        },
        "id": "NBo1x9LbVY6J",
        "outputId": "60c1ebea-198d-4b11-df8b-03f863a92563"
      },
      "source": [
        "print(res.summary())"
      ],
      "execution_count": null,
      "outputs": [
        {
          "output_type": "stream",
          "name": "stdout",
          "text": [
            "                            OLS Regression Results                            \n",
            "==============================================================================\n",
            "Dep. Variable:                    fev   R-squared:                       0.060\n",
            "Model:                            OLS   Adj. R-squared:                  0.059\n",
            "Method:                 Least Squares   F-statistic:                     41.79\n",
            "Date:                Thu, 13 Jan 2022   Prob (F-statistic):           1.99e-10\n",
            "Time:                        17:21:08   Log-Likelihood:                -813.88\n",
            "No. Observations:                 654   AIC:                             1632.\n",
            "Df Residuals:                     652   BIC:                             1641.\n",
            "Df Model:                           1                                         \n",
            "Covariance Type:            nonrobust                                         \n",
            "==============================================================================\n",
            "                 coef    std err          t      P>|t|      [0.025      0.975]\n",
            "------------------------------------------------------------------------------\n",
            "Intercept      3.9876      0.212     18.851      0.000       3.572       4.403\n",
            "smoke         -0.7107      0.110     -6.464      0.000      -0.927      -0.495\n",
            "==============================================================================\n",
            "Omnibus:                       55.456   Durbin-Watson:                   1.094\n",
            "Prob(Omnibus):                  0.000   Jarque-Bera (JB):               67.952\n",
            "Skew:                           0.736   Prob(JB):                     1.76e-15\n",
            "Kurtosis:                       3.570   Cond. No.                         15.7\n",
            "==============================================================================\n",
            "\n",
            "Warnings:\n",
            "[1] Standard Errors assume that the covariance matrix of the errors is correctly specified.\n"
          ]
        }
      ]
    },
    {
      "cell_type": "markdown",
      "metadata": {
        "id": "FXFFBEA2Ts9Z"
      },
      "source": [
        "# Mas, e a idade?"
      ]
    },
    {
      "cell_type": "code",
      "metadata": {
        "colab": {
          "base_uri": "https://localhost:8080/",
          "height": 282
        },
        "id": "RY1_Q6V2TxRt",
        "outputId": "d6c41b75-3fee-4941-fcc4-16a4eedd18f1"
      },
      "source": [
        "plt.plot(df.age, df.fev, 'o')\n",
        "plt.xlabel('Idade (anos)')\n",
        "plt.ylabel('FEV (litros)')\n",
        "plt.show()"
      ],
      "execution_count": null,
      "outputs": [
        {
          "output_type": "display_data",
          "data": {
            "image/png": "[encoded data removed]",
            "text/plain": [
              "<Figure size 432x288 with 1 Axes>"
            ]
          },
          "metadata": {
            "needs_background": "light"
          }
        }
      ]
    },
    {
      "cell_type": "code",
      "metadata": {
        "colab": {
          "base_uri": "https://localhost:8080/",
          "height": 279
        },
        "id": "BV1gSeR2UW2_",
        "outputId": "af3c8ca7-b4ad-4a8a-f771-7bf9e6410b7d"
      },
      "source": [
        "sns.boxplot(x = 'smoke', y = 'age', data = df)\n",
        "plt.xlabel('Hábito de fumar (1 = Sim, 2 = Não)')\n",
        "plt.ylabel('Idade (anos)')\n",
        "plt.show()"
      ],
      "execution_count": null,
      "outputs": [
        {
          "output_type": "display_data",
          "data": {
            "image/png": "[encoded data removed]",
            "text/plain": [
              "<Figure size 432x288 with 1 Axes>"
            ]
          },
          "metadata": {
            "needs_background": "light"
          }
        }
      ]
    },
    {
      "cell_type": "markdown",
      "metadata": {
        "id": "cvEd_9TTVomT"
      },
      "source": [
        "# Regressão linear incluindo a idade"
      ]
    },
    {
      "cell_type": "code",
      "metadata": {
        "id": "9Okn4jUVVnK6"
      },
      "source": [
        "mod2 = smf.ols(formula = 'fev ~ smoke + age', data = df)"
      ],
      "execution_count": null,
      "outputs": []
    },
    {
      "cell_type": "code",
      "metadata": {
        "id": "Hxpcc41ZVtta"
      },
      "source": [
        "res2 = mod2.fit()"
      ],
      "execution_count": null,
      "outputs": []
    },
    {
      "cell_type": "code",
      "metadata": {
        "colab": {
          "base_uri": "https://localhost:8080/"
        },
        "id": "RRstaxOGVxKA",
        "outputId": "c52b5f17-956b-4173-e20d-dd939ee79719"
      },
      "source": [
        "print(res2.summary())"
      ],
      "execution_count": null,
      "outputs": [
        {
          "output_type": "stream",
          "name": "stdout",
          "text": [
            "                            OLS Regression Results                            \n",
            "==============================================================================\n",
            "Dep. Variable:                    fev   R-squared:                       0.577\n",
            "Model:                            OLS   Adj. R-squared:                  0.575\n",
            "Method:                 Least Squares   F-statistic:                     443.3\n",
            "Date:                Thu, 13 Jan 2022   Prob (F-statistic):          3.25e-122\n",
            "Time:                        17:21:08   Log-Likelihood:                -553.17\n",
            "No. Observations:                 654   AIC:                             1112.\n",
            "Df Residuals:                     651   BIC:                             1126.\n",
            "Df Model:                           2                                         \n",
            "Covariance Type:            nonrobust                                         \n",
            "==============================================================================\n",
            "                 coef    std err          t      P>|t|      [0.025      0.975]\n",
            "------------------------------------------------------------------------------\n",
            "Intercept     -0.0506      0.202     -0.251      0.802      -0.447       0.346\n",
            "smoke          0.2090      0.081      2.588      0.010       0.050       0.368\n",
            "age            0.2306      0.008     28.176      0.000       0.215       0.247\n",
            "==============================================================================\n",
            "Omnibus:                       37.843   Durbin-Watson:                   1.635\n",
            "Prob(Omnibus):                  0.000   Jarque-Bera (JB):               51.741\n",
            "Skew:                           0.490   Prob(JB):                     5.82e-12\n",
            "Kurtosis:                       3.969   Cond. No.                         103.\n",
            "==============================================================================\n",
            "\n",
            "Warnings:\n",
            "[1] Standard Errors assume that the covariance matrix of the errors is correctly specified.\n"
          ]
        }
      ]
    },
    {
      "cell_type": "code",
      "metadata": {
        "colab": {
          "base_uri": "https://localhost:8080/",
          "height": 369
        },
        "id": "--BpklP0XAvM",
        "outputId": "e2d5c491-488c-42f9-c1d8-ba53ca0edea3"
      },
      "source": [
        "sns.lmplot(x = 'age', y = 'fev', hue = 'smoke', data = df, fit_reg = False)\n",
        "\n",
        "plt.xlabel('Idade (anos)')\n",
        "plt.ylabel('FEV (litros)')\n",
        "plt.show()"
      ],
      "execution_count": null,
      "outputs": [
        {
          "output_type": "display_data",
          "data": {
            "image/png": "[encoded data removed]",
            "text/plain": [
              "<Figure size 402.375x360 with 1 Axes>"
            ]
          },
          "metadata": {
            "needs_background": "light"
          }
        }
      ]
    },
    {
      "cell_type": "code",
      "metadata": {
        "id": "vpD4cHJo6V_o"
      },
      "source": [
        "def abline(slope, intercept):\n",
        "    \"\"\"Plot a line from slope and intercept\"\"\"\n",
        "    axes = plt.gca()\n",
        "    x_vals = np.array(axes.get_xlim())\n",
        "    y_vals = intercept + slope * x_vals\n",
        "    plt.plot(x_vals, y_vals, '-')"
      ],
      "execution_count": null,
      "outputs": []
    },
    {
      "cell_type": "code",
      "metadata": {
        "colab": {
          "base_uri": "https://localhost:8080/",
          "height": 369
        },
        "id": "4VfSQIiEYbMX",
        "outputId": "c9b9e578-b7a0-4362-f0bb-8f54a360f6de"
      },
      "source": [
        "sns.lmplot(x = 'age', y = 'fev', hue = 'smoke', data = df, fit_reg = False)\n",
        "plt.xlabel('Idade (anos)')\n",
        "plt.ylabel('FEV (litros)')\n",
        "abline(0.2306, -0.0506)\n",
        "abline(0.2306, 0.1584)\n",
        "plt.show()"
      ],
      "execution_count": null,
      "outputs": [
        {
          "output_type": "display_data",
          "data": {
            "image/png": "[encoded data removed]",
            "text/plain": [
              "<Figure size 402.375x360 with 1 Axes>"
            ]
          },
          "metadata": {
            "needs_background": "light"
          }
        }
      ]
    }
  ]
}